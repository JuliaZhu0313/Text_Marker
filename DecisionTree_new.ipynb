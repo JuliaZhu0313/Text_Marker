{
 "cells": [
  {
   "cell_type": "code",
   "execution_count": 1,
   "id": "0bfe3067",
   "metadata": {},
   "outputs": [],
   "source": [
    "def result(predictions):\n",
    "    predictions = predictions.tolist()\n",
    "    result_list=[]\n",
    "    for pred in predictions:\n",
    "        result = pred // 0.5 * 0.5\n",
    "        if (pred - result) > 0.25:\n",
    "            result += 0.5\n",
    "        if result < 1.0:\n",
    "            result = 1.0\n",
    "        if result > 5.0:\n",
    "            result = 5.0\n",
    "        result_list.append(result)\n",
    "    return result_list\n",
    "\n",
    "# Accuracy score\n",
    "def accuracy(Ypred, Ytrue):\n",
    "    Ytrue = Ytrue.tolist()\n",
    "    accurate = 0\n",
    "    for i in range(len(Ytrue)):\n",
    "        if Ytrue[i] == Ypred[i]:\n",
    "            accurate += 1\n",
    "    return accurate / len(Ytrue)\n",
    "\n",
    "# approximate accurancy rate\n",
    "def score(pred, test):\n",
    "    test = test.tolist()\n",
    "    correct = 0\n",
    "    for i in range(len(test)):\n",
    "        p = pred[i]\n",
    "        t = test[i]\n",
    "        if p < t+0.5 and p > t-0.5:\n",
    "            correct += 1\n",
    "    return correct / len(test)"
   ]
  },
  {
   "cell_type": "markdown",
   "id": "68b1396b",
   "metadata": {},
   "source": [
    "# First Train on Vocabulary"
   ]
  },
  {
   "cell_type": "code",
   "execution_count": 2,
   "id": "f3fe6e82",
   "metadata": {},
   "outputs": [
    {
     "data": {
      "text/html": [
       "<div>\n",
       "<style scoped>\n",
       "    .dataframe tbody tr th:only-of-type {\n",
       "        vertical-align: middle;\n",
       "    }\n",
       "\n",
       "    .dataframe tbody tr th {\n",
       "        vertical-align: top;\n",
       "    }\n",
       "\n",
       "    .dataframe thead th {\n",
       "        text-align: right;\n",
       "    }\n",
       "</style>\n",
       "<table border=\"1\" class=\"dataframe\">\n",
       "  <thead>\n",
       "    <tr style=\"text-align: right;\">\n",
       "      <th></th>\n",
       "      <th>full_text</th>\n",
       "      <th>cohesion</th>\n",
       "      <th>syntax</th>\n",
       "      <th>vocabulary</th>\n",
       "      <th>phraseology</th>\n",
       "      <th>grammar</th>\n",
       "      <th>conventions</th>\n",
       "      <th>number_of_words</th>\n",
       "      <th>stopwords_frequency</th>\n",
       "      <th>av_word_per_sen</th>\n",
       "      <th>...</th>\n",
       "      <th>ttr</th>\n",
       "      <th>coherence_score</th>\n",
       "      <th>lexrank_avg_min_diff</th>\n",
       "      <th>lexrank_interquartile</th>\n",
       "      <th>freq_of_noun</th>\n",
       "      <th>freq_of_transition</th>\n",
       "      <th>freq_of_pronoun</th>\n",
       "      <th>noun_to_adj</th>\n",
       "      <th>verb_to_adv</th>\n",
       "      <th>phrase_diversity</th>\n",
       "    </tr>\n",
       "  </thead>\n",
       "  <tbody>\n",
       "    <tr>\n",
       "      <th>0</th>\n",
       "      <td>I think that students would benefit from learn...</td>\n",
       "      <td>3.5</td>\n",
       "      <td>3.5</td>\n",
       "      <td>3.0</td>\n",
       "      <td>3.0</td>\n",
       "      <td>4.0</td>\n",
       "      <td>3.0</td>\n",
       "      <td>261</td>\n",
       "      <td>0.498084</td>\n",
       "      <td>14.500000</td>\n",
       "      <td>...</td>\n",
       "      <td>0.099639</td>\n",
       "      <td>0.422997</td>\n",
       "      <td>0.245068</td>\n",
       "      <td>0.275570</td>\n",
       "      <td>0.203065</td>\n",
       "      <td>0.065134</td>\n",
       "      <td>0.111111</td>\n",
       "      <td>0.377358</td>\n",
       "      <td>0.317073</td>\n",
       "      <td>0.119650</td>\n",
       "    </tr>\n",
       "    <tr>\n",
       "      <th>1</th>\n",
       "      <td>When a problem is a change you have to let it ...</td>\n",
       "      <td>2.5</td>\n",
       "      <td>2.5</td>\n",
       "      <td>3.0</td>\n",
       "      <td>2.0</td>\n",
       "      <td>2.0</td>\n",
       "      <td>2.5</td>\n",
       "      <td>533</td>\n",
       "      <td>0.581614</td>\n",
       "      <td>38.071429</td>\n",
       "      <td>...</td>\n",
       "      <td>0.055175</td>\n",
       "      <td>0.506789</td>\n",
       "      <td>0.398650</td>\n",
       "      <td>0.397796</td>\n",
       "      <td>0.200750</td>\n",
       "      <td>0.061914</td>\n",
       "      <td>0.103189</td>\n",
       "      <td>0.373832</td>\n",
       "      <td>0.296875</td>\n",
       "      <td>0.110981</td>\n",
       "    </tr>\n",
       "    <tr>\n",
       "      <th>2</th>\n",
       "      <td>Dear, Principal\\n\\nIf u change the school poli...</td>\n",
       "      <td>3.0</td>\n",
       "      <td>3.5</td>\n",
       "      <td>3.0</td>\n",
       "      <td>3.0</td>\n",
       "      <td>3.0</td>\n",
       "      <td>2.5</td>\n",
       "      <td>320</td>\n",
       "      <td>0.515625</td>\n",
       "      <td>16.842105</td>\n",
       "      <td>...</td>\n",
       "      <td>0.073317</td>\n",
       "      <td>0.472376</td>\n",
       "      <td>0.699098</td>\n",
       "      <td>0.433225</td>\n",
       "      <td>0.221875</td>\n",
       "      <td>0.043750</td>\n",
       "      <td>0.090625</td>\n",
       "      <td>0.380282</td>\n",
       "      <td>0.277778</td>\n",
       "      <td>0.105634</td>\n",
       "    </tr>\n",
       "    <tr>\n",
       "      <th>3</th>\n",
       "      <td>The best time in life is when you become yours...</td>\n",
       "      <td>4.5</td>\n",
       "      <td>4.5</td>\n",
       "      <td>4.5</td>\n",
       "      <td>4.5</td>\n",
       "      <td>4.0</td>\n",
       "      <td>5.0</td>\n",
       "      <td>728</td>\n",
       "      <td>0.559066</td>\n",
       "      <td>20.222222</td>\n",
       "      <td>...</td>\n",
       "      <td>0.055877</td>\n",
       "      <td>0.412691</td>\n",
       "      <td>0.629558</td>\n",
       "      <td>0.498259</td>\n",
       "      <td>0.188187</td>\n",
       "      <td>0.043956</td>\n",
       "      <td>0.119505</td>\n",
       "      <td>0.569343</td>\n",
       "      <td>0.184466</td>\n",
       "      <td>0.105024</td>\n",
       "    </tr>\n",
       "    <tr>\n",
       "      <th>4</th>\n",
       "      <td>Small act of kindness can impact in other peop...</td>\n",
       "      <td>2.5</td>\n",
       "      <td>3.0</td>\n",
       "      <td>3.0</td>\n",
       "      <td>3.0</td>\n",
       "      <td>2.5</td>\n",
       "      <td>2.5</td>\n",
       "      <td>234</td>\n",
       "      <td>0.521368</td>\n",
       "      <td>78.000000</td>\n",
       "      <td>...</td>\n",
       "      <td>0.085833</td>\n",
       "      <td>0.551796</td>\n",
       "      <td>0.110281</td>\n",
       "      <td>0.096727</td>\n",
       "      <td>0.230769</td>\n",
       "      <td>0.034188</td>\n",
       "      <td>0.119658</td>\n",
       "      <td>0.481481</td>\n",
       "      <td>0.150000</td>\n",
       "      <td>0.072222</td>\n",
       "    </tr>\n",
       "    <tr>\n",
       "      <th>...</th>\n",
       "      <td>...</td>\n",
       "      <td>...</td>\n",
       "      <td>...</td>\n",
       "      <td>...</td>\n",
       "      <td>...</td>\n",
       "      <td>...</td>\n",
       "      <td>...</td>\n",
       "      <td>...</td>\n",
       "      <td>...</td>\n",
       "      <td>...</td>\n",
       "      <td>...</td>\n",
       "      <td>...</td>\n",
       "      <td>...</td>\n",
       "      <td>...</td>\n",
       "      <td>...</td>\n",
       "      <td>...</td>\n",
       "      <td>...</td>\n",
       "      <td>...</td>\n",
       "      <td>...</td>\n",
       "      <td>...</td>\n",
       "      <td>...</td>\n",
       "    </tr>\n",
       "    <tr>\n",
       "      <th>3906</th>\n",
       "      <td>I believe using cellphones in class for educat...</td>\n",
       "      <td>2.5</td>\n",
       "      <td>3.0</td>\n",
       "      <td>3.0</td>\n",
       "      <td>3.5</td>\n",
       "      <td>2.5</td>\n",
       "      <td>2.5</td>\n",
       "      <td>179</td>\n",
       "      <td>0.430168</td>\n",
       "      <td>29.833333</td>\n",
       "      <td>...</td>\n",
       "      <td>0.110204</td>\n",
       "      <td>0.593374</td>\n",
       "      <td>0.062313</td>\n",
       "      <td>0.044963</td>\n",
       "      <td>0.329609</td>\n",
       "      <td>0.072626</td>\n",
       "      <td>0.100559</td>\n",
       "      <td>0.186441</td>\n",
       "      <td>0.315789</td>\n",
       "      <td>0.058876</td>\n",
       "    </tr>\n",
       "    <tr>\n",
       "      <th>3907</th>\n",
       "      <td>Working alone, students do not have to argue w...</td>\n",
       "      <td>4.0</td>\n",
       "      <td>4.0</td>\n",
       "      <td>4.0</td>\n",
       "      <td>4.0</td>\n",
       "      <td>3.5</td>\n",
       "      <td>3.0</td>\n",
       "      <td>465</td>\n",
       "      <td>0.526882</td>\n",
       "      <td>29.062500</td>\n",
       "      <td>...</td>\n",
       "      <td>0.067620</td>\n",
       "      <td>0.325690</td>\n",
       "      <td>0.327018</td>\n",
       "      <td>0.124590</td>\n",
       "      <td>0.273118</td>\n",
       "      <td>0.032258</td>\n",
       "      <td>0.030108</td>\n",
       "      <td>0.370079</td>\n",
       "      <td>0.301887</td>\n",
       "      <td>0.111722</td>\n",
       "    </tr>\n",
       "    <tr>\n",
       "      <th>3908</th>\n",
       "      <td>\"A problem is a chance for you to do your best...</td>\n",
       "      <td>2.5</td>\n",
       "      <td>3.0</td>\n",
       "      <td>3.0</td>\n",
       "      <td>3.0</td>\n",
       "      <td>3.5</td>\n",
       "      <td>3.0</td>\n",
       "      <td>257</td>\n",
       "      <td>0.525292</td>\n",
       "      <td>32.125000</td>\n",
       "      <td>...</td>\n",
       "      <td>0.089931</td>\n",
       "      <td>0.383324</td>\n",
       "      <td>0.388689</td>\n",
       "      <td>0.460645</td>\n",
       "      <td>0.214008</td>\n",
       "      <td>0.031128</td>\n",
       "      <td>0.120623</td>\n",
       "      <td>0.454545</td>\n",
       "      <td>0.777778</td>\n",
       "      <td>0.353535</td>\n",
       "    </tr>\n",
       "    <tr>\n",
       "      <th>3909</th>\n",
       "      <td>Many people disagree with Albert Schweitzer's ...</td>\n",
       "      <td>4.0</td>\n",
       "      <td>4.5</td>\n",
       "      <td>4.5</td>\n",
       "      <td>4.0</td>\n",
       "      <td>4.5</td>\n",
       "      <td>4.5</td>\n",
       "      <td>510</td>\n",
       "      <td>0.527451</td>\n",
       "      <td>24.285714</td>\n",
       "      <td>...</td>\n",
       "      <td>0.064596</td>\n",
       "      <td>0.444652</td>\n",
       "      <td>0.510104</td>\n",
       "      <td>0.471795</td>\n",
       "      <td>0.223529</td>\n",
       "      <td>0.027451</td>\n",
       "      <td>0.113725</td>\n",
       "      <td>0.526316</td>\n",
       "      <td>0.638889</td>\n",
       "      <td>0.336257</td>\n",
       "    </tr>\n",
       "    <tr>\n",
       "      <th>3910</th>\n",
       "      <td>Do you think that failure is the main thing fo...</td>\n",
       "      <td>3.5</td>\n",
       "      <td>2.5</td>\n",
       "      <td>3.5</td>\n",
       "      <td>3.0</td>\n",
       "      <td>3.0</td>\n",
       "      <td>3.5</td>\n",
       "      <td>638</td>\n",
       "      <td>0.547022</td>\n",
       "      <td>63.800000</td>\n",
       "      <td>...</td>\n",
       "      <td>0.054380</td>\n",
       "      <td>0.437314</td>\n",
       "      <td>0.417147</td>\n",
       "      <td>0.201592</td>\n",
       "      <td>0.214734</td>\n",
       "      <td>0.050157</td>\n",
       "      <td>0.105016</td>\n",
       "      <td>0.299270</td>\n",
       "      <td>0.149425</td>\n",
       "      <td>0.044719</td>\n",
       "    </tr>\n",
       "  </tbody>\n",
       "</table>\n",
       "<p>3911 rows × 42 columns</p>\n",
       "</div>"
      ],
      "text/plain": [
       "                                              full_text  cohesion  syntax  \\\n",
       "0     I think that students would benefit from learn...       3.5     3.5   \n",
       "1     When a problem is a change you have to let it ...       2.5     2.5   \n",
       "2     Dear, Principal\\n\\nIf u change the school poli...       3.0     3.5   \n",
       "3     The best time in life is when you become yours...       4.5     4.5   \n",
       "4     Small act of kindness can impact in other peop...       2.5     3.0   \n",
       "...                                                 ...       ...     ...   \n",
       "3906  I believe using cellphones in class for educat...       2.5     3.0   \n",
       "3907  Working alone, students do not have to argue w...       4.0     4.0   \n",
       "3908  \"A problem is a chance for you to do your best...       2.5     3.0   \n",
       "3909  Many people disagree with Albert Schweitzer's ...       4.0     4.5   \n",
       "3910  Do you think that failure is the main thing fo...       3.5     2.5   \n",
       "\n",
       "      vocabulary  phraseology  grammar  conventions  number_of_words  \\\n",
       "0            3.0          3.0      4.0          3.0              261   \n",
       "1            3.0          2.0      2.0          2.5              533   \n",
       "2            3.0          3.0      3.0          2.5              320   \n",
       "3            4.5          4.5      4.0          5.0              728   \n",
       "4            3.0          3.0      2.5          2.5              234   \n",
       "...          ...          ...      ...          ...              ...   \n",
       "3906         3.0          3.5      2.5          2.5              179   \n",
       "3907         4.0          4.0      3.5          3.0              465   \n",
       "3908         3.0          3.0      3.5          3.0              257   \n",
       "3909         4.5          4.0      4.5          4.5              510   \n",
       "3910         3.5          3.0      3.0          3.5              638   \n",
       "\n",
       "      stopwords_frequency  av_word_per_sen  ...       ttr  coherence_score  \\\n",
       "0                0.498084        14.500000  ...  0.099639         0.422997   \n",
       "1                0.581614        38.071429  ...  0.055175         0.506789   \n",
       "2                0.515625        16.842105  ...  0.073317         0.472376   \n",
       "3                0.559066        20.222222  ...  0.055877         0.412691   \n",
       "4                0.521368        78.000000  ...  0.085833         0.551796   \n",
       "...                   ...              ...  ...       ...              ...   \n",
       "3906             0.430168        29.833333  ...  0.110204         0.593374   \n",
       "3907             0.526882        29.062500  ...  0.067620         0.325690   \n",
       "3908             0.525292        32.125000  ...  0.089931         0.383324   \n",
       "3909             0.527451        24.285714  ...  0.064596         0.444652   \n",
       "3910             0.547022        63.800000  ...  0.054380         0.437314   \n",
       "\n",
       "      lexrank_avg_min_diff  lexrank_interquartile  freq_of_noun  \\\n",
       "0                 0.245068               0.275570      0.203065   \n",
       "1                 0.398650               0.397796      0.200750   \n",
       "2                 0.699098               0.433225      0.221875   \n",
       "3                 0.629558               0.498259      0.188187   \n",
       "4                 0.110281               0.096727      0.230769   \n",
       "...                    ...                    ...           ...   \n",
       "3906              0.062313               0.044963      0.329609   \n",
       "3907              0.327018               0.124590      0.273118   \n",
       "3908              0.388689               0.460645      0.214008   \n",
       "3909              0.510104               0.471795      0.223529   \n",
       "3910              0.417147               0.201592      0.214734   \n",
       "\n",
       "      freq_of_transition  freq_of_pronoun  noun_to_adj  verb_to_adv  \\\n",
       "0               0.065134         0.111111     0.377358     0.317073   \n",
       "1               0.061914         0.103189     0.373832     0.296875   \n",
       "2               0.043750         0.090625     0.380282     0.277778   \n",
       "3               0.043956         0.119505     0.569343     0.184466   \n",
       "4               0.034188         0.119658     0.481481     0.150000   \n",
       "...                  ...              ...          ...          ...   \n",
       "3906            0.072626         0.100559     0.186441     0.315789   \n",
       "3907            0.032258         0.030108     0.370079     0.301887   \n",
       "3908            0.031128         0.120623     0.454545     0.777778   \n",
       "3909            0.027451         0.113725     0.526316     0.638889   \n",
       "3910            0.050157         0.105016     0.299270     0.149425   \n",
       "\n",
       "      phrase_diversity  \n",
       "0             0.119650  \n",
       "1             0.110981  \n",
       "2             0.105634  \n",
       "3             0.105024  \n",
       "4             0.072222  \n",
       "...                ...  \n",
       "3906          0.058876  \n",
       "3907          0.111722  \n",
       "3908          0.353535  \n",
       "3909          0.336257  \n",
       "3910          0.044719  \n",
       "\n",
       "[3911 rows x 42 columns]"
      ]
     },
     "execution_count": 2,
     "metadata": {},
     "output_type": "execute_result"
    }
   ],
   "source": [
    "import pandas as pd\n",
    "df = pd.read_csv('/Users/zhuxiaoxiao/Desktop/Processed_Data.csv')\n",
    "df"
   ]
  },
  {
   "cell_type": "code",
   "execution_count": 3,
   "id": "8889d595",
   "metadata": {},
   "outputs": [],
   "source": [
    "y = df['vocabulary']\n",
    "X = df.iloc[:, 7:]\n",
    "from sklearn.model_selection import train_test_split\n",
    "X_train, X_test, y_train, y_test = train_test_split(X, y, test_size=0.2, random_state=1)"
   ]
  },
  {
   "cell_type": "code",
   "execution_count": 4,
   "id": "e21984e0",
   "metadata": {},
   "outputs": [
    {
     "name": "stdout",
     "output_type": "stream",
     "text": [
      "{'criterion': 'friedman_mse', 'max_depth': 4, 'min_samples_split': 2}\n",
      "0.31632139906990203\n"
     ]
    }
   ],
   "source": [
    "from sklearn.tree import DecisionTreeRegressor\n",
    "from sklearn.model_selection import GridSearchCV\n",
    "from scipy.stats import randint\n",
    "from scipy.stats import uniform as sp_randFloat\n",
    "import warnings\n",
    "warnings.filterwarnings('ignore')\n",
    "model = DecisionTreeRegressor()\n",
    "parameters = {'max_depth':[0,1,2,3,4,5,6,7,8,9,10],\n",
    "             'criterion':['squared_error', 'friedman_mse', 'absolute_error', 'poisson'],\n",
    "             'min_samples_split':[0,1,2,3,4,5,6,7,8,9,10]}\n",
    "randm_src = GridSearchCV(model, parameters)\n",
    "randm_src.fit(X_train, y_train)\n",
    "print(randm_src.best_params_)\n",
    "print(randm_src.best_score_)"
   ]
  },
  {
   "cell_type": "code",
   "execution_count": 12,
   "id": "0a4b5d31",
   "metadata": {},
   "outputs": [],
   "source": [
    "from sklearn.tree import DecisionTreeRegressor\n",
    "dt = DecisionTreeRegressor(random_state=3, max_depth = 4,criterion='friedman_mse',min_samples_split=2)\n",
    "dt.fit(X_train, y_train)\n",
    "y_pred = dt.predict(X_test)"
   ]
  },
  {
   "cell_type": "markdown",
   "id": "8547126f",
   "metadata": {},
   "source": [
    "Store the model"
   ]
  },
  {
   "cell_type": "code",
   "execution_count": 6,
   "id": "139af009",
   "metadata": {},
   "outputs": [],
   "source": [
    "import pickle\n",
    "pickle.dump(dt, open('Decision_Tree_vocab.sav','wb'))"
   ]
  },
  {
   "cell_type": "code",
   "execution_count": 6,
   "id": "9a502aa6",
   "metadata": {},
   "outputs": [],
   "source": [
    "new_pre = result(y_pred)"
   ]
  },
  {
   "cell_type": "code",
   "execution_count": 7,
   "id": "f73d4032",
   "metadata": {},
   "outputs": [
    {
     "name": "stdout",
     "output_type": "stream",
     "text": [
      "0.4061302681992337\n",
      "0.7049808429118773\n"
     ]
    }
   ],
   "source": [
    "print(accuracy(new_pre, y_test))\n",
    "print(score(y_pred, y_test))"
   ]
  },
  {
   "cell_type": "markdown",
   "id": "5c96716e",
   "metadata": {},
   "source": [
    "# Test feature importance"
   ]
  },
  {
   "cell_type": "code",
   "execution_count": 31,
   "id": "dab6877d",
   "metadata": {},
   "outputs": [
    {
     "data": {
      "text/plain": [
       "array([0.        , 0.        , 0.        , 0.        , 0.        ,\n",
       "       0.        , 0.        , 0.        , 0.        , 0.        ,\n",
       "       0.        , 0.        , 0.        , 0.00851037, 0.        ,\n",
       "       0.        , 0.        , 0.6259381 , 0.        , 0.        ,\n",
       "       0.        , 0.        , 0.        , 0.29790421, 0.00983244,\n",
       "       0.01490492, 0.        , 0.00892536, 0.02072785, 0.        ,\n",
       "       0.        , 0.01325675, 0.        , 0.        , 0.        ])"
      ]
     },
     "execution_count": 31,
     "metadata": {},
     "output_type": "execute_result"
    }
   ],
   "source": [
    "importance = dt.feature_importances_\n",
    "#dt.feature_names_in_\n",
    "dt.feature_importances_"
   ]
  },
  {
   "cell_type": "code",
   "execution_count": 51,
   "id": "ef44bde9",
   "metadata": {},
   "outputs": [],
   "source": [
    "import numpy as np\n",
    "feature_importance = pd.DataFrame([list(X_train.columns.values), importance]).T\n",
    "feature_importance = feature_importance.sort_values(by=1, ascending=False)"
   ]
  },
  {
   "cell_type": "code",
   "execution_count": 52,
   "id": "d3f49836",
   "metadata": {},
   "outputs": [
    {
     "data": {
      "text/html": [
       "<div>\n",
       "<style scoped>\n",
       "    .dataframe tbody tr th:only-of-type {\n",
       "        vertical-align: middle;\n",
       "    }\n",
       "\n",
       "    .dataframe tbody tr th {\n",
       "        vertical-align: top;\n",
       "    }\n",
       "\n",
       "    .dataframe thead th {\n",
       "        text-align: right;\n",
       "    }\n",
       "</style>\n",
       "<table border=\"1\" class=\"dataframe\">\n",
       "  <thead>\n",
       "    <tr style=\"text-align: right;\">\n",
       "      <th></th>\n",
       "      <th>0</th>\n",
       "      <th>1</th>\n",
       "    </tr>\n",
       "  </thead>\n",
       "  <tbody>\n",
       "    <tr>\n",
       "      <th>17</th>\n",
       "      <td>Incorrect_form_ratio</td>\n",
       "      <td>0.625938</td>\n",
       "    </tr>\n",
       "    <tr>\n",
       "      <th>23</th>\n",
       "      <td>number_of_diff_words</td>\n",
       "      <td>0.297904</td>\n",
       "    </tr>\n",
       "    <tr>\n",
       "      <th>28</th>\n",
       "      <td>lexrank_interquartile</td>\n",
       "      <td>0.020728</td>\n",
       "    </tr>\n",
       "    <tr>\n",
       "      <th>25</th>\n",
       "      <td>ttr</td>\n",
       "      <td>0.014905</td>\n",
       "    </tr>\n",
       "    <tr>\n",
       "      <th>31</th>\n",
       "      <td>freq_of_pronoun</td>\n",
       "      <td>0.013257</td>\n",
       "    </tr>\n",
       "    <tr>\n",
       "      <th>24</th>\n",
       "      <td>freq_diff_words</td>\n",
       "      <td>0.009832</td>\n",
       "    </tr>\n",
       "    <tr>\n",
       "      <th>27</th>\n",
       "      <td>lexrank_avg_min_diff</td>\n",
       "      <td>0.008925</td>\n",
       "    </tr>\n",
       "    <tr>\n",
       "      <th>13</th>\n",
       "      <td>sentiment_positive</td>\n",
       "      <td>0.00851</td>\n",
       "    </tr>\n",
       "    <tr>\n",
       "      <th>20</th>\n",
       "      <td>dale_chall_readability_score</td>\n",
       "      <td>0.0</td>\n",
       "    </tr>\n",
       "    <tr>\n",
       "      <th>21</th>\n",
       "      <td>text_standard</td>\n",
       "      <td>0.0</td>\n",
       "    </tr>\n",
       "    <tr>\n",
       "      <th>22</th>\n",
       "      <td>mcalpine_eflaw</td>\n",
       "      <td>0.0</td>\n",
       "    </tr>\n",
       "    <tr>\n",
       "      <th>26</th>\n",
       "      <td>coherence_score</td>\n",
       "      <td>0.0</td>\n",
       "    </tr>\n",
       "    <tr>\n",
       "      <th>18</th>\n",
       "      <td>flesch_reading_ease</td>\n",
       "      <td>0.0</td>\n",
       "    </tr>\n",
       "    <tr>\n",
       "      <th>29</th>\n",
       "      <td>freq_of_noun</td>\n",
       "      <td>0.0</td>\n",
       "    </tr>\n",
       "    <tr>\n",
       "      <th>30</th>\n",
       "      <td>freq_of_transition</td>\n",
       "      <td>0.0</td>\n",
       "    </tr>\n",
       "    <tr>\n",
       "      <th>32</th>\n",
       "      <td>noun_to_adj</td>\n",
       "      <td>0.0</td>\n",
       "    </tr>\n",
       "    <tr>\n",
       "      <th>33</th>\n",
       "      <td>verb_to_adv</td>\n",
       "      <td>0.0</td>\n",
       "    </tr>\n",
       "    <tr>\n",
       "      <th>19</th>\n",
       "      <td>flesch_kincaid_grade</td>\n",
       "      <td>0.0</td>\n",
       "    </tr>\n",
       "    <tr>\n",
       "      <th>0</th>\n",
       "      <td>number_of_words</td>\n",
       "      <td>0.0</td>\n",
       "    </tr>\n",
       "    <tr>\n",
       "      <th>1</th>\n",
       "      <td>stopwords_frequency</td>\n",
       "      <td>0.0</td>\n",
       "    </tr>\n",
       "    <tr>\n",
       "      <th>16</th>\n",
       "      <td>num_of_short_forms</td>\n",
       "      <td>0.0</td>\n",
       "    </tr>\n",
       "    <tr>\n",
       "      <th>15</th>\n",
       "      <td>num_of_grammar_errors</td>\n",
       "      <td>0.0</td>\n",
       "    </tr>\n",
       "    <tr>\n",
       "      <th>14</th>\n",
       "      <td>sentiment_negative</td>\n",
       "      <td>0.0</td>\n",
       "    </tr>\n",
       "    <tr>\n",
       "      <th>12</th>\n",
       "      <td>sentiment_compound</td>\n",
       "      <td>0.0</td>\n",
       "    </tr>\n",
       "    <tr>\n",
       "      <th>11</th>\n",
       "      <td>freq_of_wrong_words</td>\n",
       "      <td>0.0</td>\n",
       "    </tr>\n",
       "    <tr>\n",
       "      <th>10</th>\n",
       "      <td>sentence_complexity</td>\n",
       "      <td>0.0</td>\n",
       "    </tr>\n",
       "    <tr>\n",
       "      <th>9</th>\n",
       "      <td>freq_of_distinct_adv</td>\n",
       "      <td>0.0</td>\n",
       "    </tr>\n",
       "    <tr>\n",
       "      <th>8</th>\n",
       "      <td>freq_of_distinct_adj</td>\n",
       "      <td>0.0</td>\n",
       "    </tr>\n",
       "    <tr>\n",
       "      <th>7</th>\n",
       "      <td>freq_of_adv</td>\n",
       "      <td>0.0</td>\n",
       "    </tr>\n",
       "    <tr>\n",
       "      <th>6</th>\n",
       "      <td>freq_of_adj</td>\n",
       "      <td>0.0</td>\n",
       "    </tr>\n",
       "    <tr>\n",
       "      <th>5</th>\n",
       "      <td>freq_of_verb</td>\n",
       "      <td>0.0</td>\n",
       "    </tr>\n",
       "    <tr>\n",
       "      <th>4</th>\n",
       "      <td>ARI</td>\n",
       "      <td>0.0</td>\n",
       "    </tr>\n",
       "    <tr>\n",
       "      <th>3</th>\n",
       "      <td>punctuations</td>\n",
       "      <td>0.0</td>\n",
       "    </tr>\n",
       "    <tr>\n",
       "      <th>2</th>\n",
       "      <td>av_word_per_sen</td>\n",
       "      <td>0.0</td>\n",
       "    </tr>\n",
       "    <tr>\n",
       "      <th>34</th>\n",
       "      <td>phrase_diversity</td>\n",
       "      <td>0.0</td>\n",
       "    </tr>\n",
       "  </tbody>\n",
       "</table>\n",
       "</div>"
      ],
      "text/plain": [
       "                               0         1\n",
       "17          Incorrect_form_ratio  0.625938\n",
       "23          number_of_diff_words  0.297904\n",
       "28         lexrank_interquartile  0.020728\n",
       "25                           ttr  0.014905\n",
       "31               freq_of_pronoun  0.013257\n",
       "24               freq_diff_words  0.009832\n",
       "27          lexrank_avg_min_diff  0.008925\n",
       "13            sentiment_positive   0.00851\n",
       "20  dale_chall_readability_score       0.0\n",
       "21                 text_standard       0.0\n",
       "22                mcalpine_eflaw       0.0\n",
       "26               coherence_score       0.0\n",
       "18           flesch_reading_ease       0.0\n",
       "29                  freq_of_noun       0.0\n",
       "30            freq_of_transition       0.0\n",
       "32                   noun_to_adj       0.0\n",
       "33                   verb_to_adv       0.0\n",
       "19          flesch_kincaid_grade       0.0\n",
       "0                number_of_words       0.0\n",
       "1            stopwords_frequency       0.0\n",
       "16            num_of_short_forms       0.0\n",
       "15         num_of_grammar_errors       0.0\n",
       "14            sentiment_negative       0.0\n",
       "12            sentiment_compound       0.0\n",
       "11           freq_of_wrong_words       0.0\n",
       "10           sentence_complexity       0.0\n",
       "9           freq_of_distinct_adv       0.0\n",
       "8           freq_of_distinct_adj       0.0\n",
       "7                    freq_of_adv       0.0\n",
       "6                    freq_of_adj       0.0\n",
       "5                   freq_of_verb       0.0\n",
       "4                            ARI       0.0\n",
       "3                   punctuations       0.0\n",
       "2                av_word_per_sen       0.0\n",
       "34              phrase_diversity       0.0"
      ]
     },
     "execution_count": 52,
     "metadata": {},
     "output_type": "execute_result"
    }
   ],
   "source": [
    "feature_importance"
   ]
  },
  {
   "cell_type": "markdown",
   "id": "6557a473",
   "metadata": {},
   "source": [
    "# Use Our prediction as new feature"
   ]
  },
  {
   "cell_type": "code",
   "execution_count": 53,
   "id": "b3deff88",
   "metadata": {},
   "outputs": [],
   "source": [
    "y = df['cohesion']\n",
    "X = df.iloc[:, 7:]\n",
    "from sklearn.model_selection import train_test_split\n",
    "X_train, X_test, y_train, y_test = train_test_split(X, y, test_size=0.2, random_state=1)"
   ]
  },
  {
   "cell_type": "code",
   "execution_count": 54,
   "id": "42083a2b",
   "metadata": {},
   "outputs": [],
   "source": [
    "y_pred_train = dt.predict(X_train)"
   ]
  },
  {
   "cell_type": "code",
   "execution_count": 55,
   "id": "86ee2da1",
   "metadata": {},
   "outputs": [],
   "source": [
    "new_X_train = X_train\n",
    "new_X_train['vocabulary_predict'] = y_pred_train\n",
    "new_X_test = X_test\n",
    "new_X_test['vocabulary_predict'] = y_pred"
   ]
  },
  {
   "cell_type": "code",
   "execution_count": 56,
   "id": "fc628c56",
   "metadata": {},
   "outputs": [
    {
     "name": "stdout",
     "output_type": "stream",
     "text": [
      "{'criterion': 'friedman_mse', 'max_depth': 3, 'min_samples_split': 2}\n",
      "0.27825569549778617\n"
     ]
    }
   ],
   "source": [
    "warnings.filterwarnings('ignore')\n",
    "model = DecisionTreeRegressor()\n",
    "parameters = {'max_depth':[0,1,2,3,4,5,6,7,8,9,10],\n",
    "             'criterion':['squared_error', 'friedman_mse', 'absolute_error', 'poisson'],\n",
    "             'min_samples_split':[0,1,2,3,4,5,6,7,8,9,10]}\n",
    "new_randm_src = GridSearchCV(model, parameters)\n",
    "new_randm_src.fit(new_X_train, y_train)\n",
    "print(new_randm_src.best_params_)\n",
    "print(new_randm_src.best_score_)"
   ]
  },
  {
   "cell_type": "code",
   "execution_count": 57,
   "id": "33fc934d",
   "metadata": {},
   "outputs": [
    {
     "data": {
      "text/plain": [
       "DecisionTreeRegressor(criterion='friedman_mse', max_depth=3, random_state=3)"
      ]
     },
     "execution_count": 57,
     "metadata": {},
     "output_type": "execute_result"
    }
   ],
   "source": [
    "new_dt = DecisionTreeRegressor(random_state=3, max_depth = 3,criterion='friedman_mse',min_samples_split=2)\n",
    "new_dt.fit(new_X_train, y_train)"
   ]
  },
  {
   "cell_type": "markdown",
   "id": "2e9fdb3b",
   "metadata": {},
   "source": [
    "Store the model"
   ]
  },
  {
   "cell_type": "code",
   "execution_count": 21,
   "id": "6f3bc109",
   "metadata": {},
   "outputs": [],
   "source": [
    "pickle.dump(new_dt, open('Decision_Tree_cohesion.sav','wb'))"
   ]
  },
  {
   "cell_type": "code",
   "execution_count": 58,
   "id": "2a262839",
   "metadata": {},
   "outputs": [],
   "source": [
    "new_y_pred = new_dt.predict(new_X_test)"
   ]
  },
  {
   "cell_type": "code",
   "execution_count": 59,
   "id": "c267e26f",
   "metadata": {},
   "outputs": [],
   "source": [
    "new_pre_lst = result(new_y_pred)"
   ]
  },
  {
   "cell_type": "code",
   "execution_count": 60,
   "id": "e74efa93",
   "metadata": {},
   "outputs": [
    {
     "name": "stdout",
     "output_type": "stream",
     "text": [
      "0.3282247765006386\n",
      "0.5900383141762452\n"
     ]
    }
   ],
   "source": [
    "print(accuracy(new_pre_lst, y_test))\n",
    "print(score(new_y_pred, y_test))"
   ]
  },
  {
   "cell_type": "code",
   "execution_count": 61,
   "id": "74de52b5",
   "metadata": {},
   "outputs": [],
   "source": [
    "import matplotlib.pyplot as plt\n",
    "def result_diff_plot(Ytrue,Ypred):\n",
    "    diff=Ytrue-Ypred\n",
    "    plt.hist(diff, 30)\n",
    "    \n",
    "    plt.xlabel('Difference to Results')\n",
    "    plt.ylabel('Total Counts')\n",
    "    plt.title('Distribution of Difference Between Prediction and True Score')\n",
    "    plt.grid(True)\n",
    "    plt.show()"
   ]
  },
  {
   "cell_type": "code",
   "execution_count": 62,
   "id": "0babbbcc",
   "metadata": {},
   "outputs": [
    {
     "data": {
      "image/png": "[encoded data removed]",
      "text/plain": [
       "<Figure size 432x288 with 1 Axes>"
      ]
     },
     "metadata": {
      "needs_background": "light"
     },
     "output_type": "display_data"
    }
   ],
   "source": [
    "result_diff_plot(new_y_pred, y_test)"
   ]
  },
  {
   "cell_type": "code",
   "execution_count": 63,
   "id": "a0d9866e",
   "metadata": {},
   "outputs": [
    {
     "data": {
      "image/png": "[encoded data removed]",
      "text/plain": [
       "<Figure size 432x288 with 1 Axes>"
      ]
     },
     "metadata": {
      "needs_background": "light"
     },
     "output_type": "display_data"
    }
   ],
   "source": [
    "result_diff_plot(new_pre_lst, y_test)"
   ]
  },
  {
   "cell_type": "markdown",
   "id": "db10b5fb",
   "metadata": {},
   "source": [
    "# Feature importance for cohesion"
   ]
  },
  {
   "cell_type": "code",
   "execution_count": 65,
   "id": "b0938b05",
   "metadata": {},
   "outputs": [
    {
     "data": {
      "text/plain": [
       "array([0.        , 0.        , 0.0328168 , 0.01840471, 0.        ,\n",
       "       0.        , 0.        , 0.        , 0.        , 0.        ,\n",
       "       0.        , 0.        , 0.        , 0.        , 0.        ,\n",
       "       0.        , 0.        , 0.        , 0.        , 0.        ,\n",
       "       0.        , 0.        , 0.        , 0.01818473, 0.        ,\n",
       "       0.        , 0.        , 0.        , 0.        , 0.        ,\n",
       "       0.        , 0.        , 0.        , 0.        , 0.        ,\n",
       "       0.93059376])"
      ]
     },
     "execution_count": 65,
     "metadata": {},
     "output_type": "execute_result"
    }
   ],
   "source": [
    "importance1 = new_dt.feature_importances_\n",
    "importance1"
   ]
  },
  {
   "cell_type": "code",
   "execution_count": 66,
   "id": "9a361778",
   "metadata": {},
   "outputs": [],
   "source": [
    "feature_importance1 = pd.DataFrame([list(new_X_train.columns.values), importance]).T\n",
    "feature_importance1 = feature_importance1.sort_values(by=1, ascending=False)"
   ]
  },
  {
   "cell_type": "code",
   "execution_count": 67,
   "id": "32051035",
   "metadata": {},
   "outputs": [
    {
     "data": {
      "text/html": [
       "<div>\n",
       "<style scoped>\n",
       "    .dataframe tbody tr th:only-of-type {\n",
       "        vertical-align: middle;\n",
       "    }\n",
       "\n",
       "    .dataframe tbody tr th {\n",
       "        vertical-align: top;\n",
       "    }\n",
       "\n",
       "    .dataframe thead th {\n",
       "        text-align: right;\n",
       "    }\n",
       "</style>\n",
       "<table border=\"1\" class=\"dataframe\">\n",
       "  <thead>\n",
       "    <tr style=\"text-align: right;\">\n",
       "      <th></th>\n",
       "      <th>0</th>\n",
       "      <th>1</th>\n",
       "    </tr>\n",
       "  </thead>\n",
       "  <tbody>\n",
       "    <tr>\n",
       "      <th>17</th>\n",
       "      <td>Incorrect_form_ratio</td>\n",
       "      <td>0.625938</td>\n",
       "    </tr>\n",
       "    <tr>\n",
       "      <th>23</th>\n",
       "      <td>number_of_diff_words</td>\n",
       "      <td>0.297904</td>\n",
       "    </tr>\n",
       "    <tr>\n",
       "      <th>28</th>\n",
       "      <td>lexrank_interquartile</td>\n",
       "      <td>0.020728</td>\n",
       "    </tr>\n",
       "    <tr>\n",
       "      <th>25</th>\n",
       "      <td>ttr</td>\n",
       "      <td>0.014905</td>\n",
       "    </tr>\n",
       "    <tr>\n",
       "      <th>31</th>\n",
       "      <td>freq_of_pronoun</td>\n",
       "      <td>0.013257</td>\n",
       "    </tr>\n",
       "    <tr>\n",
       "      <th>24</th>\n",
       "      <td>freq_diff_words</td>\n",
       "      <td>0.009832</td>\n",
       "    </tr>\n",
       "    <tr>\n",
       "      <th>27</th>\n",
       "      <td>lexrank_avg_min_diff</td>\n",
       "      <td>0.008925</td>\n",
       "    </tr>\n",
       "    <tr>\n",
       "      <th>13</th>\n",
       "      <td>sentiment_positive</td>\n",
       "      <td>0.00851</td>\n",
       "    </tr>\n",
       "    <tr>\n",
       "      <th>20</th>\n",
       "      <td>dale_chall_readability_score</td>\n",
       "      <td>0.0</td>\n",
       "    </tr>\n",
       "    <tr>\n",
       "      <th>21</th>\n",
       "      <td>text_standard</td>\n",
       "      <td>0.0</td>\n",
       "    </tr>\n",
       "    <tr>\n",
       "      <th>22</th>\n",
       "      <td>mcalpine_eflaw</td>\n",
       "      <td>0.0</td>\n",
       "    </tr>\n",
       "    <tr>\n",
       "      <th>26</th>\n",
       "      <td>coherence_score</td>\n",
       "      <td>0.0</td>\n",
       "    </tr>\n",
       "    <tr>\n",
       "      <th>18</th>\n",
       "      <td>flesch_reading_ease</td>\n",
       "      <td>0.0</td>\n",
       "    </tr>\n",
       "    <tr>\n",
       "      <th>29</th>\n",
       "      <td>freq_of_noun</td>\n",
       "      <td>0.0</td>\n",
       "    </tr>\n",
       "    <tr>\n",
       "      <th>30</th>\n",
       "      <td>freq_of_transition</td>\n",
       "      <td>0.0</td>\n",
       "    </tr>\n",
       "    <tr>\n",
       "      <th>32</th>\n",
       "      <td>noun_to_adj</td>\n",
       "      <td>0.0</td>\n",
       "    </tr>\n",
       "    <tr>\n",
       "      <th>33</th>\n",
       "      <td>verb_to_adv</td>\n",
       "      <td>0.0</td>\n",
       "    </tr>\n",
       "    <tr>\n",
       "      <th>19</th>\n",
       "      <td>flesch_kincaid_grade</td>\n",
       "      <td>0.0</td>\n",
       "    </tr>\n",
       "    <tr>\n",
       "      <th>0</th>\n",
       "      <td>number_of_words</td>\n",
       "      <td>0.0</td>\n",
       "    </tr>\n",
       "    <tr>\n",
       "      <th>1</th>\n",
       "      <td>stopwords_frequency</td>\n",
       "      <td>0.0</td>\n",
       "    </tr>\n",
       "    <tr>\n",
       "      <th>16</th>\n",
       "      <td>num_of_short_forms</td>\n",
       "      <td>0.0</td>\n",
       "    </tr>\n",
       "    <tr>\n",
       "      <th>15</th>\n",
       "      <td>num_of_grammar_errors</td>\n",
       "      <td>0.0</td>\n",
       "    </tr>\n",
       "    <tr>\n",
       "      <th>14</th>\n",
       "      <td>sentiment_negative</td>\n",
       "      <td>0.0</td>\n",
       "    </tr>\n",
       "    <tr>\n",
       "      <th>12</th>\n",
       "      <td>sentiment_compound</td>\n",
       "      <td>0.0</td>\n",
       "    </tr>\n",
       "    <tr>\n",
       "      <th>11</th>\n",
       "      <td>freq_of_wrong_words</td>\n",
       "      <td>0.0</td>\n",
       "    </tr>\n",
       "    <tr>\n",
       "      <th>10</th>\n",
       "      <td>sentence_complexity</td>\n",
       "      <td>0.0</td>\n",
       "    </tr>\n",
       "    <tr>\n",
       "      <th>9</th>\n",
       "      <td>freq_of_distinct_adv</td>\n",
       "      <td>0.0</td>\n",
       "    </tr>\n",
       "    <tr>\n",
       "      <th>8</th>\n",
       "      <td>freq_of_distinct_adj</td>\n",
       "      <td>0.0</td>\n",
       "    </tr>\n",
       "    <tr>\n",
       "      <th>7</th>\n",
       "      <td>freq_of_adv</td>\n",
       "      <td>0.0</td>\n",
       "    </tr>\n",
       "    <tr>\n",
       "      <th>6</th>\n",
       "      <td>freq_of_adj</td>\n",
       "      <td>0.0</td>\n",
       "    </tr>\n",
       "    <tr>\n",
       "      <th>5</th>\n",
       "      <td>freq_of_verb</td>\n",
       "      <td>0.0</td>\n",
       "    </tr>\n",
       "    <tr>\n",
       "      <th>4</th>\n",
       "      <td>ARI</td>\n",
       "      <td>0.0</td>\n",
       "    </tr>\n",
       "    <tr>\n",
       "      <th>3</th>\n",
       "      <td>punctuations</td>\n",
       "      <td>0.0</td>\n",
       "    </tr>\n",
       "    <tr>\n",
       "      <th>2</th>\n",
       "      <td>av_word_per_sen</td>\n",
       "      <td>0.0</td>\n",
       "    </tr>\n",
       "    <tr>\n",
       "      <th>34</th>\n",
       "      <td>phrase_diversity</td>\n",
       "      <td>0.0</td>\n",
       "    </tr>\n",
       "    <tr>\n",
       "      <th>35</th>\n",
       "      <td>vocabulary_predict</td>\n",
       "      <td>None</td>\n",
       "    </tr>\n",
       "  </tbody>\n",
       "</table>\n",
       "</div>"
      ],
      "text/plain": [
       "                               0         1\n",
       "17          Incorrect_form_ratio  0.625938\n",
       "23          number_of_diff_words  0.297904\n",
       "28         lexrank_interquartile  0.020728\n",
       "25                           ttr  0.014905\n",
       "31               freq_of_pronoun  0.013257\n",
       "24               freq_diff_words  0.009832\n",
       "27          lexrank_avg_min_diff  0.008925\n",
       "13            sentiment_positive   0.00851\n",
       "20  dale_chall_readability_score       0.0\n",
       "21                 text_standard       0.0\n",
       "22                mcalpine_eflaw       0.0\n",
       "26               coherence_score       0.0\n",
       "18           flesch_reading_ease       0.0\n",
       "29                  freq_of_noun       0.0\n",
       "30            freq_of_transition       0.0\n",
       "32                   noun_to_adj       0.0\n",
       "33                   verb_to_adv       0.0\n",
       "19          flesch_kincaid_grade       0.0\n",
       "0                number_of_words       0.0\n",
       "1            stopwords_frequency       0.0\n",
       "16            num_of_short_forms       0.0\n",
       "15         num_of_grammar_errors       0.0\n",
       "14            sentiment_negative       0.0\n",
       "12            sentiment_compound       0.0\n",
       "11           freq_of_wrong_words       0.0\n",
       "10           sentence_complexity       0.0\n",
       "9           freq_of_distinct_adv       0.0\n",
       "8           freq_of_distinct_adj       0.0\n",
       "7                    freq_of_adv       0.0\n",
       "6                    freq_of_adj       0.0\n",
       "5                   freq_of_verb       0.0\n",
       "4                            ARI       0.0\n",
       "3                   punctuations       0.0\n",
       "2                av_word_per_sen       0.0\n",
       "34              phrase_diversity       0.0\n",
       "35            vocabulary_predict      None"
      ]
     },
     "execution_count": 67,
     "metadata": {},
     "output_type": "execute_result"
    }
   ],
   "source": [
    "feature_importance1"
   ]
  },
  {
   "cell_type": "markdown",
   "id": "c070219d",
   "metadata": {},
   "source": [
    "# Old model with less features"
   ]
  },
  {
   "cell_type": "code",
   "execution_count": 29,
   "id": "99ad669a",
   "metadata": {},
   "outputs": [],
   "source": [
    "new_X = X.iloc[:,7:]"
   ]
  },
  {
   "cell_type": "code",
   "execution_count": 30,
   "id": "47f5406b",
   "metadata": {},
   "outputs": [],
   "source": [
    "y = df['cohesion']"
   ]
  },
  {
   "cell_type": "code",
   "execution_count": 31,
   "id": "73eea003",
   "metadata": {},
   "outputs": [],
   "source": [
    "X_train1, X_test1, y_train1, y_test1 = train_test_split(new_X, y, test_size=0.2, random_state=1)"
   ]
  },
  {
   "cell_type": "code",
   "execution_count": 32,
   "id": "a96e7d36",
   "metadata": {},
   "outputs": [],
   "source": [
    "dt1 = DecisionTreeRegressor(random_state=3, max_depth = 3)\n",
    "dt1.fit(X_train1, y_train1)\n",
    "y_pred1 = dt1.predict(X_test1)"
   ]
  },
  {
   "cell_type": "code",
   "execution_count": 33,
   "id": "f1cd862c",
   "metadata": {},
   "outputs": [],
   "source": [
    "new_pre1 = result(y_pred1)"
   ]
  },
  {
   "cell_type": "code",
   "execution_count": 34,
   "id": "11ae7b9c",
   "metadata": {},
   "outputs": [
    {
     "name": "stdout",
     "output_type": "stream",
     "text": [
      "0.2950191570881226\n",
      "0.5810983397190294\n"
     ]
    }
   ],
   "source": [
    "print(accuracy(new_pre1, y_test1))\n",
    "print(score(y_pred1, y_test1))"
   ]
  },
  {
   "cell_type": "code",
   "execution_count": 35,
   "id": "bc899656",
   "metadata": {},
   "outputs": [
    {
     "data": {
      "image/png": "[encoded data removed]",
      "text/plain": [
       "<Figure size 432x288 with 1 Axes>"
      ]
     },
     "metadata": {
      "needs_background": "light"
     },
     "output_type": "display_data"
    }
   ],
   "source": [
    "result_diff_plot(new_pre1, y_test1)"
   ]
  },
  {
   "cell_type": "code",
   "execution_count": 36,
   "id": "96d61d6c",
   "metadata": {},
   "outputs": [
    {
     "data": {
      "image/png": "[encoded data removed]",
      "text/plain": [
       "<Figure size 432x288 with 1 Axes>"
      ]
     },
     "metadata": {
      "needs_background": "light"
     },
     "output_type": "display_data"
    }
   ],
   "source": [
    "result_diff_plot(y_pred1, y_test1)"
   ]
  },
  {
   "cell_type": "markdown",
   "id": "8b9592d5",
   "metadata": {},
   "source": [
    "# Use rounded Volcabulary as feature"
   ]
  },
  {
   "cell_type": "code",
   "execution_count": 37,
   "id": "a338f7d8",
   "metadata": {},
   "outputs": [],
   "source": [
    "y = df['cohesion']\n",
    "X = df.iloc[:, 7:]\n",
    "from sklearn.model_selection import train_test_split\n",
    "X_train, X_test, y_train, y_test = train_test_split(X, y, test_size=0.2, random_state=1)"
   ]
  },
  {
   "cell_type": "code",
   "execution_count": 38,
   "id": "9f9d3335",
   "metadata": {},
   "outputs": [],
   "source": [
    "new_pre2 = []\n",
    "for i in y_pred_train:\n",
    "    new_pre2.append(round_to_nearest_half_int(i))"
   ]
  },
  {
   "cell_type": "code",
   "execution_count": 39,
   "id": "8e27b38c",
   "metadata": {},
   "outputs": [],
   "source": [
    "X_train2 = X_train\n",
    "X_train2['vocabulary_predict'] = new_pre2\n",
    "X_test2 = X_test\n",
    "X_test2['vocabulary_predict'] = new_pre"
   ]
  },
  {
   "cell_type": "code",
   "execution_count": 40,
   "id": "2c232374",
   "metadata": {},
   "outputs": [
    {
     "name": "stdout",
     "output_type": "stream",
     "text": [
      "{'criterion': 'friedman_mse', 'max_depth': 3, 'min_samples_split': 2}\n",
      "0.27825569549778617\n"
     ]
    }
   ],
   "source": [
    "warnings.filterwarnings('ignore')\n",
    "model = DecisionTreeRegressor()\n",
    "parameters = {'max_depth':[0,1,2,3,4,5,6,7,8,9,10],\n",
    "             'criterion':['squared_error', 'friedman_mse', 'absolute_error', 'poisson'],\n",
    "             'min_samples_split':[0,1,2,3,4,5,6,7,8,9,10]}\n",
    "new_randm_src = GridSearchCV(model, parameters)\n",
    "new_randm_src.fit(new_X_train, y_train)\n",
    "print(new_randm_src.best_params_)\n",
    "print(new_randm_src.best_score_)"
   ]
  },
  {
   "cell_type": "code",
   "execution_count": 41,
   "id": "b70740e7",
   "metadata": {},
   "outputs": [
    {
     "data": {
      "text/plain": [
       "DecisionTreeRegressor(criterion='friedman_mse', max_depth=3, random_state=3)"
      ]
     },
     "execution_count": 41,
     "metadata": {},
     "output_type": "execute_result"
    }
   ],
   "source": [
    "dt2 = DecisionTreeRegressor(random_state=3, max_depth = 3,criterion='friedman_mse',min_samples_split=2)\n",
    "dt2.fit(X_train2, y_train)"
   ]
  },
  {
   "cell_type": "code",
   "execution_count": 42,
   "id": "b96a4d89",
   "metadata": {},
   "outputs": [],
   "source": [
    "y_pred2 = dt2.predict(X_test2)"
   ]
  },
  {
   "cell_type": "code",
   "execution_count": 43,
   "id": "fd5e1181",
   "metadata": {},
   "outputs": [],
   "source": [
    "pre_lst2 = result(y_pred2)"
   ]
  },
  {
   "cell_type": "code",
   "execution_count": 44,
   "id": "dc8c3269",
   "metadata": {},
   "outputs": [
    {
     "name": "stdout",
     "output_type": "stream",
     "text": [
      "0.3103448275862069\n",
      "0.5887611749680716\n"
     ]
    }
   ],
   "source": [
    "print(accuracy(pre_lst2, y_test))\n",
    "print(score(y_pred2, y_test))"
   ]
  },
  {
   "cell_type": "code",
   "execution_count": 45,
   "id": "0812a2b9",
   "metadata": {},
   "outputs": [
    {
     "data": {
      "image/png": "[encoded data removed]",
      "text/plain": [
       "<Figure size 432x288 with 1 Axes>"
      ]
     },
     "metadata": {
      "needs_background": "light"
     },
     "output_type": "display_data"
    }
   ],
   "source": [
    "result_diff_plot(pre_lst2, y_test)"
   ]
  },
  {
   "cell_type": "code",
   "execution_count": 46,
   "id": "c12685fd",
   "metadata": {},
   "outputs": [
    {
     "data": {
      "image/png": "[encoded data removed]",
      "text/plain": [
       "<Figure size 432x288 with 1 Axes>"
      ]
     },
     "metadata": {
      "needs_background": "light"
     },
     "output_type": "display_data"
    }
   ],
   "source": [
    "result_diff_plot(y_pred2, y_test)"
   ]
  },
  {
   "cell_type": "code",
   "execution_count": null,
   "id": "60c71651",
   "metadata": {},
   "outputs": [],
   "source": []
  }
 ],
 "metadata": {
  "kernelspec": {
   "display_name": "Python 3",
   "language": "python",
   "name": "python3"
  },
  "language_info": {
   "codemirror_mode": {
    "name": "ipython",
    "version": 3
   },
   "file_extension": ".py",
   "mimetype": "text/x-python",
   "name": "python",
   "nbconvert_exporter": "python",
   "pygments_lexer": "ipython3",
   "version": "3.8.8"
  }
 },
 "nbformat": 4,
 "nbformat_minor": 5
}
